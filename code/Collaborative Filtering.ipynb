{
 "cells": [
  {
   "cell_type": "markdown",
   "metadata": {},
   "source": [
    "# User based collaborative filtering"
   ]
  },
  {
   "cell_type": "markdown",
   "metadata": {},
   "source": [
    "### Imports"
   ]
  },
  {
   "cell_type": "code",
   "execution_count": 1,
   "metadata": {
    "execution": {
     "iopub.execute_input": "2021-06-30T14:19:25.632567Z",
     "iopub.status.busy": "2021-06-30T14:19:25.632189Z",
     "iopub.status.idle": "2021-06-30T14:19:26.452539Z",
     "shell.execute_reply": "2021-06-30T14:19:26.450546Z",
     "shell.execute_reply.started": "2021-06-30T14:19:25.632486Z"
    }
   },
   "outputs": [],
   "source": [
    "import numpy as np\n",
    "import pandas as pd\n",
    "import seaborn as sns\n",
    "from matplotlib import pyplot as plt\n",
    "import scipy\n",
    "import os"
   ]
  },
  {
   "cell_type": "markdown",
   "metadata": {},
   "source": [
    "### Directory Structure"
   ]
  },
  {
   "cell_type": "code",
   "execution_count": 2,
   "metadata": {},
   "outputs": [
    {
     "name": "stdout",
     "output_type": "stream",
     "text": [
      "D:\\MSU\\CMSE 831 Project\n"
     ]
    }
   ],
   "source": [
    "cwd = os.getcwd()\n",
    "parent = os.path.dirname(cwd)\n",
    "print(parent)"
   ]
  },
  {
   "cell_type": "code",
   "execution_count": 3,
   "metadata": {
    "execution": {
     "iopub.execute_input": "2021-06-30T14:19:26.454020Z",
     "iopub.status.busy": "2021-06-30T14:19:26.453746Z",
     "iopub.status.idle": "2021-06-30T14:19:26.590574Z",
     "shell.execute_reply": "2021-06-30T14:19:26.589700Z",
     "shell.execute_reply.started": "2021-06-30T14:19:26.453994Z"
    }
   },
   "outputs": [],
   "source": [
    "movies_df = pd.read_csv(f'{parent}\\data\\movie.csv', usecols=['movieId', 'title'], dtype = {'movieId':'int32', 'title':'str'})\n",
    "rating_df = pd.read_csv(fr'{parent}\\data\\rating.csv', usecols = ['userId', 'movieId', 'rating'],dtype={'userId': 'int32', 'movieId': 'int32', 'rating': 'float32'})"
   ]
  },
  {
   "cell_type": "code",
   "execution_count": 4,
   "metadata": {
    "execution": {
     "iopub.execute_input": "2021-06-30T14:19:26.592307Z",
     "iopub.status.busy": "2021-06-30T14:19:26.592053Z",
     "iopub.status.idle": "2021-06-30T14:19:26.614843Z",
     "shell.execute_reply": "2021-06-30T14:19:26.613987Z",
     "shell.execute_reply.started": "2021-06-30T14:19:26.592274Z"
    }
   },
   "outputs": [
    {
     "data": {
      "text/html": [
       "<div>\n",
       "<style scoped>\n",
       "    .dataframe tbody tr th:only-of-type {\n",
       "        vertical-align: middle;\n",
       "    }\n",
       "\n",
       "    .dataframe tbody tr th {\n",
       "        vertical-align: top;\n",
       "    }\n",
       "\n",
       "    .dataframe thead th {\n",
       "        text-align: right;\n",
       "    }\n",
       "</style>\n",
       "<table border=\"1\" class=\"dataframe\">\n",
       "  <thead>\n",
       "    <tr style=\"text-align: right;\">\n",
       "      <th></th>\n",
       "      <th>movieId</th>\n",
       "      <th>title</th>\n",
       "    </tr>\n",
       "  </thead>\n",
       "  <tbody>\n",
       "    <tr>\n",
       "      <th>0</th>\n",
       "      <td>1</td>\n",
       "      <td>Toy Story (1995)</td>\n",
       "    </tr>\n",
       "    <tr>\n",
       "      <th>1</th>\n",
       "      <td>2</td>\n",
       "      <td>Jumanji (1995)</td>\n",
       "    </tr>\n",
       "    <tr>\n",
       "      <th>2</th>\n",
       "      <td>3</td>\n",
       "      <td>Grumpier Old Men (1995)</td>\n",
       "    </tr>\n",
       "    <tr>\n",
       "      <th>3</th>\n",
       "      <td>4</td>\n",
       "      <td>Waiting to Exhale (1995)</td>\n",
       "    </tr>\n",
       "    <tr>\n",
       "      <th>4</th>\n",
       "      <td>5</td>\n",
       "      <td>Father of the Bride Part II (1995)</td>\n",
       "    </tr>\n",
       "  </tbody>\n",
       "</table>\n",
       "</div>"
      ],
      "text/plain": [
       "   movieId                               title\n",
       "0        1                    Toy Story (1995)\n",
       "1        2                      Jumanji (1995)\n",
       "2        3             Grumpier Old Men (1995)\n",
       "3        4            Waiting to Exhale (1995)\n",
       "4        5  Father of the Bride Part II (1995)"
      ]
     },
     "execution_count": 4,
     "metadata": {},
     "output_type": "execute_result"
    }
   ],
   "source": [
    "movies_df.head()"
   ]
  },
  {
   "cell_type": "code",
   "execution_count": 5,
   "metadata": {
    "execution": {
     "iopub.execute_input": "2021-06-30T14:19:26.616584Z",
     "iopub.status.busy": "2021-06-30T14:19:26.616315Z",
     "iopub.status.idle": "2021-06-30T14:19:26.630381Z",
     "shell.execute_reply": "2021-06-30T14:19:26.629399Z",
     "shell.execute_reply.started": "2021-06-30T14:19:26.616558Z"
    }
   },
   "outputs": [
    {
     "data": {
      "text/html": [
       "<div>\n",
       "<style scoped>\n",
       "    .dataframe tbody tr th:only-of-type {\n",
       "        vertical-align: middle;\n",
       "    }\n",
       "\n",
       "    .dataframe tbody tr th {\n",
       "        vertical-align: top;\n",
       "    }\n",
       "\n",
       "    .dataframe thead th {\n",
       "        text-align: right;\n",
       "    }\n",
       "</style>\n",
       "<table border=\"1\" class=\"dataframe\">\n",
       "  <thead>\n",
       "    <tr style=\"text-align: right;\">\n",
       "      <th></th>\n",
       "      <th>userId</th>\n",
       "      <th>movieId</th>\n",
       "      <th>rating</th>\n",
       "    </tr>\n",
       "  </thead>\n",
       "  <tbody>\n",
       "    <tr>\n",
       "      <th>0</th>\n",
       "      <td>1</td>\n",
       "      <td>2</td>\n",
       "      <td>3.5</td>\n",
       "    </tr>\n",
       "    <tr>\n",
       "      <th>1</th>\n",
       "      <td>1</td>\n",
       "      <td>29</td>\n",
       "      <td>3.5</td>\n",
       "    </tr>\n",
       "    <tr>\n",
       "      <th>2</th>\n",
       "      <td>1</td>\n",
       "      <td>32</td>\n",
       "      <td>3.5</td>\n",
       "    </tr>\n",
       "    <tr>\n",
       "      <th>3</th>\n",
       "      <td>1</td>\n",
       "      <td>47</td>\n",
       "      <td>3.5</td>\n",
       "    </tr>\n",
       "    <tr>\n",
       "      <th>4</th>\n",
       "      <td>1</td>\n",
       "      <td>50</td>\n",
       "      <td>3.5</td>\n",
       "    </tr>\n",
       "  </tbody>\n",
       "</table>\n",
       "</div>"
      ],
      "text/plain": [
       "   userId  movieId  rating\n",
       "0       1        2     3.5\n",
       "1       1       29     3.5\n",
       "2       1       32     3.5\n",
       "3       1       47     3.5\n",
       "4       1       50     3.5"
      ]
     },
     "execution_count": 5,
     "metadata": {},
     "output_type": "execute_result"
    }
   ],
   "source": [
    "rating_df.head()"
   ]
  },
  {
   "cell_type": "code",
   "execution_count": 6,
   "metadata": {
    "execution": {
     "iopub.execute_input": "2021-06-30T14:19:26.632405Z",
     "iopub.status.busy": "2021-06-30T14:19:26.632108Z",
     "iopub.status.idle": "2021-06-30T14:19:26.668564Z",
     "shell.execute_reply": "2021-06-30T14:19:26.667583Z",
     "shell.execute_reply.started": "2021-06-30T14:19:26.632376Z"
    }
   },
   "outputs": [
    {
     "data": {
      "text/html": [
       "<div>\n",
       "<style scoped>\n",
       "    .dataframe tbody tr th:only-of-type {\n",
       "        vertical-align: middle;\n",
       "    }\n",
       "\n",
       "    .dataframe tbody tr th {\n",
       "        vertical-align: top;\n",
       "    }\n",
       "\n",
       "    .dataframe thead th {\n",
       "        text-align: right;\n",
       "    }\n",
       "</style>\n",
       "<table border=\"1\" class=\"dataframe\">\n",
       "  <thead>\n",
       "    <tr style=\"text-align: right;\">\n",
       "      <th></th>\n",
       "      <th>userId</th>\n",
       "      <th>movieId</th>\n",
       "      <th>rating</th>\n",
       "      <th>title</th>\n",
       "    </tr>\n",
       "  </thead>\n",
       "  <tbody>\n",
       "    <tr>\n",
       "      <th>0</th>\n",
       "      <td>1</td>\n",
       "      <td>2</td>\n",
       "      <td>3.5</td>\n",
       "      <td>Jumanji (1995)</td>\n",
       "    </tr>\n",
       "    <tr>\n",
       "      <th>1</th>\n",
       "      <td>5</td>\n",
       "      <td>2</td>\n",
       "      <td>3.0</td>\n",
       "      <td>Jumanji (1995)</td>\n",
       "    </tr>\n",
       "    <tr>\n",
       "      <th>2</th>\n",
       "      <td>13</td>\n",
       "      <td>2</td>\n",
       "      <td>3.0</td>\n",
       "      <td>Jumanji (1995)</td>\n",
       "    </tr>\n",
       "    <tr>\n",
       "      <th>3</th>\n",
       "      <td>29</td>\n",
       "      <td>2</td>\n",
       "      <td>3.0</td>\n",
       "      <td>Jumanji (1995)</td>\n",
       "    </tr>\n",
       "    <tr>\n",
       "      <th>4</th>\n",
       "      <td>34</td>\n",
       "      <td>2</td>\n",
       "      <td>3.0</td>\n",
       "      <td>Jumanji (1995)</td>\n",
       "    </tr>\n",
       "  </tbody>\n",
       "</table>\n",
       "</div>"
      ],
      "text/plain": [
       "   userId  movieId  rating           title\n",
       "0       1        2     3.5  Jumanji (1995)\n",
       "1       5        2     3.0  Jumanji (1995)\n",
       "2      13        2     3.0  Jumanji (1995)\n",
       "3      29        2     3.0  Jumanji (1995)\n",
       "4      34        2     3.0  Jumanji (1995)"
      ]
     },
     "execution_count": 6,
     "metadata": {},
     "output_type": "execute_result"
    }
   ],
   "source": [
    "df = pd.merge(rating_df,movies_df,on='movieId')\n",
    "df.head()"
   ]
  },
  {
   "cell_type": "markdown",
   "metadata": {},
   "source": [
    "Let's find a movie rating count"
   ]
  },
  {
   "cell_type": "code",
   "execution_count": 7,
   "metadata": {
    "execution": {
     "iopub.execute_input": "2021-06-30T14:19:26.670244Z",
     "iopub.status.busy": "2021-06-30T14:19:26.669737Z",
     "iopub.status.idle": "2021-06-30T14:19:26.735490Z",
     "shell.execute_reply": "2021-06-30T14:19:26.734490Z",
     "shell.execute_reply.started": "2021-06-30T14:19:26.670204Z"
    }
   },
   "outputs": [
    {
     "data": {
      "text/html": [
       "<div>\n",
       "<style scoped>\n",
       "    .dataframe tbody tr th:only-of-type {\n",
       "        vertical-align: middle;\n",
       "    }\n",
       "\n",
       "    .dataframe tbody tr th {\n",
       "        vertical-align: top;\n",
       "    }\n",
       "\n",
       "    .dataframe thead th {\n",
       "        text-align: right;\n",
       "    }\n",
       "</style>\n",
       "<table border=\"1\" class=\"dataframe\">\n",
       "  <thead>\n",
       "    <tr style=\"text-align: right;\">\n",
       "      <th></th>\n",
       "      <th>title</th>\n",
       "      <th>totalRatingCount</th>\n",
       "    </tr>\n",
       "  </thead>\n",
       "  <tbody>\n",
       "    <tr>\n",
       "      <th>0</th>\n",
       "      <td>#chicagoGirl: The Social Network Takes on a Di...</td>\n",
       "      <td>3</td>\n",
       "    </tr>\n",
       "    <tr>\n",
       "      <th>1</th>\n",
       "      <td>$ (Dollars) (1971)</td>\n",
       "      <td>24</td>\n",
       "    </tr>\n",
       "    <tr>\n",
       "      <th>2</th>\n",
       "      <td>$5 a Day (2008)</td>\n",
       "      <td>39</td>\n",
       "    </tr>\n",
       "    <tr>\n",
       "      <th>3</th>\n",
       "      <td>$9.99 (2008)</td>\n",
       "      <td>55</td>\n",
       "    </tr>\n",
       "    <tr>\n",
       "      <th>4</th>\n",
       "      <td>$ellebrity (Sellebrity) (2012)</td>\n",
       "      <td>2</td>\n",
       "    </tr>\n",
       "  </tbody>\n",
       "</table>\n",
       "</div>"
      ],
      "text/plain": [
       "                                               title  totalRatingCount\n",
       "0  #chicagoGirl: The Social Network Takes on a Di...                 3\n",
       "1                                 $ (Dollars) (1971)                24\n",
       "2                                    $5 a Day (2008)                39\n",
       "3                                       $9.99 (2008)                55\n",
       "4                     $ellebrity (Sellebrity) (2012)                 2"
      ]
     },
     "execution_count": 7,
     "metadata": {},
     "output_type": "execute_result"
    }
   ],
   "source": [
    "# Subset parameter defines in which columns to look for missing values.\n",
    "combine_movie_rating = df.dropna(axis=0, subset=['title'])\n",
    "movie_ratingCount = (combine_movie_rating.groupby(by=['title'])['rating'].count().reset_index().rename(columns={'rating':'totalRatingCount'}))[['title','totalRatingCount']]\n",
    "movie_ratingCount.head()"
   ]
  },
  {
   "cell_type": "markdown",
   "metadata": {},
   "source": [
    "We will now merge this result to the 'combine_movie_rating' dataframe that we created"
   ]
  },
  {
   "cell_type": "code",
   "execution_count": 8,
   "metadata": {
    "execution": {
     "iopub.execute_input": "2021-06-30T14:19:26.737301Z",
     "iopub.status.busy": "2021-06-30T14:19:26.736733Z",
     "iopub.status.idle": "2021-06-30T14:19:26.774116Z",
     "shell.execute_reply": "2021-06-30T14:19:26.773207Z",
     "shell.execute_reply.started": "2021-06-30T14:19:26.737249Z"
    }
   },
   "outputs": [
    {
     "data": {
      "text/html": [
       "<div>\n",
       "<style scoped>\n",
       "    .dataframe tbody tr th:only-of-type {\n",
       "        vertical-align: middle;\n",
       "    }\n",
       "\n",
       "    .dataframe tbody tr th {\n",
       "        vertical-align: top;\n",
       "    }\n",
       "\n",
       "    .dataframe thead th {\n",
       "        text-align: right;\n",
       "    }\n",
       "</style>\n",
       "<table border=\"1\" class=\"dataframe\">\n",
       "  <thead>\n",
       "    <tr style=\"text-align: right;\">\n",
       "      <th></th>\n",
       "      <th>userId</th>\n",
       "      <th>movieId</th>\n",
       "      <th>rating</th>\n",
       "      <th>title</th>\n",
       "      <th>totalRatingCount</th>\n",
       "    </tr>\n",
       "  </thead>\n",
       "  <tbody>\n",
       "    <tr>\n",
       "      <th>0</th>\n",
       "      <td>1</td>\n",
       "      <td>2</td>\n",
       "      <td>3.5</td>\n",
       "      <td>Jumanji (1995)</td>\n",
       "      <td>22243</td>\n",
       "    </tr>\n",
       "    <tr>\n",
       "      <th>1</th>\n",
       "      <td>5</td>\n",
       "      <td>2</td>\n",
       "      <td>3.0</td>\n",
       "      <td>Jumanji (1995)</td>\n",
       "      <td>22243</td>\n",
       "    </tr>\n",
       "    <tr>\n",
       "      <th>2</th>\n",
       "      <td>13</td>\n",
       "      <td>2</td>\n",
       "      <td>3.0</td>\n",
       "      <td>Jumanji (1995)</td>\n",
       "      <td>22243</td>\n",
       "    </tr>\n",
       "    <tr>\n",
       "      <th>3</th>\n",
       "      <td>29</td>\n",
       "      <td>2</td>\n",
       "      <td>3.0</td>\n",
       "      <td>Jumanji (1995)</td>\n",
       "      <td>22243</td>\n",
       "    </tr>\n",
       "    <tr>\n",
       "      <th>4</th>\n",
       "      <td>34</td>\n",
       "      <td>2</td>\n",
       "      <td>3.0</td>\n",
       "      <td>Jumanji (1995)</td>\n",
       "      <td>22243</td>\n",
       "    </tr>\n",
       "  </tbody>\n",
       "</table>\n",
       "</div>"
      ],
      "text/plain": [
       "   userId  movieId  rating           title  totalRatingCount\n",
       "0       1        2     3.5  Jumanji (1995)             22243\n",
       "1       5        2     3.0  Jumanji (1995)             22243\n",
       "2      13        2     3.0  Jumanji (1995)             22243\n",
       "3      29        2     3.0  Jumanji (1995)             22243\n",
       "4      34        2     3.0  Jumanji (1995)             22243"
      ]
     },
     "execution_count": 8,
     "metadata": {},
     "output_type": "execute_result"
    }
   ],
   "source": [
    "# We here do left join based on title column in combine_movie_rating (as left dataframe) and title column in movie_ratingCount (as right dataframe)\n",
    "rating_with_totalRatingCount = combine_movie_rating.merge(movie_ratingCount, left_on = 'title', right_on='title', how= 'left')\n",
    "rating_with_totalRatingCount.head()"
   ]
  },
  {
   "cell_type": "markdown",
   "metadata": {},
   "source": [
    "Sampling the view for better representation"
   ]
  },
  {
   "cell_type": "code",
   "execution_count": 9,
   "metadata": {
    "execution": {
     "iopub.execute_input": "2021-06-30T14:19:26.777426Z",
     "iopub.status.busy": "2021-06-30T14:19:26.777110Z",
     "iopub.status.idle": "2021-06-30T14:19:26.789946Z",
     "shell.execute_reply": "2021-06-30T14:19:26.789290Z",
     "shell.execute_reply.started": "2021-06-30T14:19:26.777397Z"
    }
   },
   "outputs": [
    {
     "data": {
      "text/html": [
       "<div>\n",
       "<style scoped>\n",
       "    .dataframe tbody tr th:only-of-type {\n",
       "        vertical-align: middle;\n",
       "    }\n",
       "\n",
       "    .dataframe tbody tr th {\n",
       "        vertical-align: top;\n",
       "    }\n",
       "\n",
       "    .dataframe thead th {\n",
       "        text-align: right;\n",
       "    }\n",
       "</style>\n",
       "<table border=\"1\" class=\"dataframe\">\n",
       "  <thead>\n",
       "    <tr style=\"text-align: right;\">\n",
       "      <th></th>\n",
       "      <th>userId</th>\n",
       "      <th>movieId</th>\n",
       "      <th>rating</th>\n",
       "      <th>title</th>\n",
       "      <th>totalRatingCount</th>\n",
       "    </tr>\n",
       "  </thead>\n",
       "  <tbody>\n",
       "    <tr>\n",
       "      <th>9279097</th>\n",
       "      <td>56816</td>\n",
       "      <td>8644</td>\n",
       "      <td>3.5</td>\n",
       "      <td>I, Robot (2004)</td>\n",
       "      <td>9666</td>\n",
       "    </tr>\n",
       "    <tr>\n",
       "      <th>4531122</th>\n",
       "      <td>116900</td>\n",
       "      <td>2750</td>\n",
       "      <td>3.0</td>\n",
       "      <td>Radio Days (1987)</td>\n",
       "      <td>2225</td>\n",
       "    </tr>\n",
       "    <tr>\n",
       "      <th>5669469</th>\n",
       "      <td>55481</td>\n",
       "      <td>648</td>\n",
       "      <td>4.5</td>\n",
       "      <td>Mission: Impossible (1996)</td>\n",
       "      <td>37127</td>\n",
       "    </tr>\n",
       "    <tr>\n",
       "      <th>7422004</th>\n",
       "      <td>43787</td>\n",
       "      <td>153</td>\n",
       "      <td>3.0</td>\n",
       "      <td>Batman Forever (1995)</td>\n",
       "      <td>32867</td>\n",
       "    </tr>\n",
       "    <tr>\n",
       "      <th>5688606</th>\n",
       "      <td>127265</td>\n",
       "      <td>648</td>\n",
       "      <td>3.0</td>\n",
       "      <td>Mission: Impossible (1996)</td>\n",
       "      <td>37127</td>\n",
       "    </tr>\n",
       "  </tbody>\n",
       "</table>\n",
       "</div>"
      ],
      "text/plain": [
       "         userId  movieId  rating                       title  totalRatingCount\n",
       "9279097   56816     8644     3.5             I, Robot (2004)              9666\n",
       "4531122  116900     2750     3.0           Radio Days (1987)              2225\n",
       "5669469   55481      648     4.5  Mission: Impossible (1996)             37127\n",
       "7422004   43787      153     3.0       Batman Forever (1995)             32867\n",
       "5688606  127265      648     3.0  Mission: Impossible (1996)             37127"
      ]
     },
     "execution_count": 9,
     "metadata": {},
     "output_type": "execute_result"
    }
   ],
   "source": [
    "rating_with_totalRatingCount.sample(5)"
   ]
  },
  {
   "cell_type": "code",
   "execution_count": 10,
   "metadata": {
    "execution": {
     "iopub.execute_input": "2021-06-30T14:19:26.791605Z",
     "iopub.status.busy": "2021-06-30T14:19:26.791130Z",
     "iopub.status.idle": "2021-06-30T14:19:26.807513Z",
     "shell.execute_reply": "2021-06-30T14:19:26.806417Z",
     "shell.execute_reply.started": "2021-06-30T14:19:26.791566Z"
    }
   },
   "outputs": [
    {
     "name": "stdout",
     "output_type": "stream",
     "text": [
      "count   26729.000\n",
      "mean      748.261\n",
      "std      3086.673\n",
      "min         1.000\n",
      "25%         3.000\n",
      "50%        18.000\n",
      "75%       205.000\n",
      "max     67310.000\n",
      "Name: totalRatingCount, dtype: float64\n"
     ]
    }
   ],
   "source": [
    "# Describing the totalRatingCount column statistically\n",
    "pd.set_option('display.float_format', lambda x: '%.3f' %x)\n",
    "print(movie_ratingCount['totalRatingCount'].describe())"
   ]
  },
  {
   "cell_type": "code",
   "execution_count": 11,
   "metadata": {
    "execution": {
     "iopub.execute_input": "2021-06-30T14:19:26.809241Z",
     "iopub.status.busy": "2021-06-30T14:19:26.808696Z",
     "iopub.status.idle": "2021-06-30T14:19:27.394228Z",
     "shell.execute_reply": "2021-06-30T14:19:27.393093Z",
     "shell.execute_reply.started": "2021-06-30T14:19:26.809200Z"
    }
   },
   "outputs": [
    {
     "data": {
      "image/png": "[encoded data removed]",
      "text/plain": [
       "<Figure size 1700x800 with 1 Axes>"
      ]
     },
     "metadata": {},
     "output_type": "display_data"
    }
   ],
   "source": [
    "#movie_ratingCount.hist(column = 'totalRatingCount', bins =50, figsize=(20,5))\n",
    "fig, ax = plt.subplots(figsize=(17,8))\n",
    "plt.axvline(x=10000,ymax=0.95, c='red', label = 'Threshold (10000)');\n",
    "sns.histplot(ax=ax, data = movie_ratingCount['totalRatingCount'], log_scale=True);\n",
    "plt.legend(fontsize=25);"
   ]
  },
  {
   "cell_type": "markdown",
   "metadata": {},
   "source": [
    "***Let's consider a popularity threshold rating for movie recommendations as 50***"
   ]
  },
  {
   "cell_type": "code",
   "execution_count": 12,
   "metadata": {
    "execution": {
     "iopub.execute_input": "2021-06-30T14:19:27.395677Z",
     "iopub.status.busy": "2021-06-30T14:19:27.395430Z",
     "iopub.status.idle": "2021-06-30T14:19:27.412613Z",
     "shell.execute_reply": "2021-06-30T14:19:27.411792Z",
     "shell.execute_reply.started": "2021-06-30T14:19:27.395652Z"
    }
   },
   "outputs": [
    {
     "data": {
      "text/html": [
       "<div>\n",
       "<style scoped>\n",
       "    .dataframe tbody tr th:only-of-type {\n",
       "        vertical-align: middle;\n",
       "    }\n",
       "\n",
       "    .dataframe tbody tr th {\n",
       "        vertical-align: top;\n",
       "    }\n",
       "\n",
       "    .dataframe thead th {\n",
       "        text-align: right;\n",
       "    }\n",
       "</style>\n",
       "<table border=\"1\" class=\"dataframe\">\n",
       "  <thead>\n",
       "    <tr style=\"text-align: right;\">\n",
       "      <th></th>\n",
       "      <th>userId</th>\n",
       "      <th>movieId</th>\n",
       "      <th>rating</th>\n",
       "      <th>title</th>\n",
       "      <th>totalRatingCount</th>\n",
       "    </tr>\n",
       "  </thead>\n",
       "  <tbody>\n",
       "    <tr>\n",
       "      <th>0</th>\n",
       "      <td>1</td>\n",
       "      <td>2</td>\n",
       "      <td>3.500</td>\n",
       "      <td>Jumanji (1995)</td>\n",
       "      <td>22243</td>\n",
       "    </tr>\n",
       "    <tr>\n",
       "      <th>1</th>\n",
       "      <td>5</td>\n",
       "      <td>2</td>\n",
       "      <td>3.000</td>\n",
       "      <td>Jumanji (1995)</td>\n",
       "      <td>22243</td>\n",
       "    </tr>\n",
       "    <tr>\n",
       "      <th>2</th>\n",
       "      <td>13</td>\n",
       "      <td>2</td>\n",
       "      <td>3.000</td>\n",
       "      <td>Jumanji (1995)</td>\n",
       "      <td>22243</td>\n",
       "    </tr>\n",
       "    <tr>\n",
       "      <th>3</th>\n",
       "      <td>29</td>\n",
       "      <td>2</td>\n",
       "      <td>3.000</td>\n",
       "      <td>Jumanji (1995)</td>\n",
       "      <td>22243</td>\n",
       "    </tr>\n",
       "    <tr>\n",
       "      <th>4</th>\n",
       "      <td>34</td>\n",
       "      <td>2</td>\n",
       "      <td>3.000</td>\n",
       "      <td>Jumanji (1995)</td>\n",
       "      <td>22243</td>\n",
       "    </tr>\n",
       "  </tbody>\n",
       "</table>\n",
       "</div>"
      ],
      "text/plain": [
       "   userId  movieId  rating           title  totalRatingCount\n",
       "0       1        2   3.500  Jumanji (1995)             22243\n",
       "1       5        2   3.000  Jumanji (1995)             22243\n",
       "2      13        2   3.000  Jumanji (1995)             22243\n",
       "3      29        2   3.000  Jumanji (1995)             22243\n",
       "4      34        2   3.000  Jumanji (1995)             22243"
      ]
     },
     "execution_count": 12,
     "metadata": {},
     "output_type": "execute_result"
    }
   ],
   "source": [
    "popularity_threshold = 10000\n",
    "rating_popular_movie = rating_with_totalRatingCount.query('totalRatingCount >= @popularity_threshold')\n",
    "rating_popular_movie.head()"
   ]
  },
  {
   "cell_type": "code",
   "execution_count": 13,
   "metadata": {
    "execution": {
     "iopub.execute_input": "2021-06-30T14:19:27.413960Z",
     "iopub.status.busy": "2021-06-30T14:19:27.413710Z",
     "iopub.status.idle": "2021-06-30T14:19:27.425592Z",
     "shell.execute_reply": "2021-06-30T14:19:27.424610Z",
     "shell.execute_reply.started": "2021-06-30T14:19:27.413936Z"
    }
   },
   "outputs": [
    {
     "data": {
      "text/html": [
       "<div>\n",
       "<style scoped>\n",
       "    .dataframe tbody tr th:only-of-type {\n",
       "        vertical-align: middle;\n",
       "    }\n",
       "\n",
       "    .dataframe tbody tr th {\n",
       "        vertical-align: top;\n",
       "    }\n",
       "\n",
       "    .dataframe thead th {\n",
       "        text-align: right;\n",
       "    }\n",
       "</style>\n",
       "<table border=\"1\" class=\"dataframe\">\n",
       "  <thead>\n",
       "    <tr style=\"text-align: right;\">\n",
       "      <th></th>\n",
       "      <th>userId</th>\n",
       "      <th>movieId</th>\n",
       "      <th>rating</th>\n",
       "      <th>title</th>\n",
       "      <th>totalRatingCount</th>\n",
       "    </tr>\n",
       "  </thead>\n",
       "  <tbody>\n",
       "    <tr>\n",
       "      <th>7530269</th>\n",
       "      <td>36734</td>\n",
       "      <td>208</td>\n",
       "      <td>2.000</td>\n",
       "      <td>Waterworld (1995)</td>\n",
       "      <td>27775</td>\n",
       "    </tr>\n",
       "    <tr>\n",
       "      <th>12053192</th>\n",
       "      <td>129858</td>\n",
       "      <td>1729</td>\n",
       "      <td>4.000</td>\n",
       "      <td>Jackie Brown (1997)</td>\n",
       "      <td>11557</td>\n",
       "    </tr>\n",
       "    <tr>\n",
       "      <th>2012506</th>\n",
       "      <td>90184</td>\n",
       "      <td>3996</td>\n",
       "      <td>5.000</td>\n",
       "      <td>Crouching Tiger, Hidden Dragon (Wo hu cang lon...</td>\n",
       "      <td>25090</td>\n",
       "    </tr>\n",
       "    <tr>\n",
       "      <th>5336885</th>\n",
       "      <td>67334</td>\n",
       "      <td>364</td>\n",
       "      <td>4.000</td>\n",
       "      <td>Lion King, The (1994)</td>\n",
       "      <td>38991</td>\n",
       "    </tr>\n",
       "    <tr>\n",
       "      <th>3339175</th>\n",
       "      <td>13041</td>\n",
       "      <td>780</td>\n",
       "      <td>2.500</td>\n",
       "      <td>Independence Day (a.k.a. ID4) (1996)</td>\n",
       "      <td>47048</td>\n",
       "    </tr>\n",
       "  </tbody>\n",
       "</table>\n",
       "</div>"
      ],
      "text/plain": [
       "          userId  movieId  rating   \n",
       "7530269    36734      208   2.000  \\\n",
       "12053192  129858     1729   4.000   \n",
       "2012506    90184     3996   5.000   \n",
       "5336885    67334      364   4.000   \n",
       "3339175    13041      780   2.500   \n",
       "\n",
       "                                                      title  totalRatingCount  \n",
       "7530269                                   Waterworld (1995)             27775  \n",
       "12053192                                Jackie Brown (1997)             11557  \n",
       "2012506   Crouching Tiger, Hidden Dragon (Wo hu cang lon...             25090  \n",
       "5336885                               Lion King, The (1994)             38991  \n",
       "3339175                Independence Day (a.k.a. ID4) (1996)             47048  "
      ]
     },
     "execution_count": 13,
     "metadata": {},
     "output_type": "execute_result"
    }
   ],
   "source": [
    "# Sampling the results of the query\n",
    "rating_popular_movie.sample(5)"
   ]
  },
  {
   "cell_type": "code",
   "execution_count": 14,
   "metadata": {
    "execution": {
     "iopub.execute_input": "2021-06-30T14:19:27.427313Z",
     "iopub.status.busy": "2021-06-30T14:19:27.426952Z",
     "iopub.status.idle": "2021-06-30T14:19:27.444729Z",
     "shell.execute_reply": "2021-06-30T14:19:27.443813Z",
     "shell.execute_reply.started": "2021-06-30T14:19:27.427284Z"
    }
   },
   "outputs": [
    {
     "data": {
      "text/plain": [
       "(9050403, 5)"
      ]
     },
     "execution_count": 14,
     "metadata": {},
     "output_type": "execute_result"
    }
   ],
   "source": [
    "# Dimensions of my data\n",
    "rating_popular_movie.shape"
   ]
  },
  {
   "cell_type": "markdown",
   "metadata": {},
   "source": [
    "### Creating Pivot Table"
   ]
  },
  {
   "cell_type": "code",
   "execution_count": 15,
   "metadata": {
    "execution": {
     "iopub.execute_input": "2021-06-30T14:19:27.446318Z",
     "iopub.status.busy": "2021-06-30T14:19:27.446031Z",
     "iopub.status.idle": "2021-06-30T14:19:27.523194Z",
     "shell.execute_reply": "2021-06-30T14:19:27.522265Z",
     "shell.execute_reply.started": "2021-06-30T14:19:27.446291Z"
    }
   },
   "outputs": [
    {
     "data": {
      "text/html": [
       "<div>\n",
       "<style scoped>\n",
       "    .dataframe tbody tr th:only-of-type {\n",
       "        vertical-align: middle;\n",
       "    }\n",
       "\n",
       "    .dataframe tbody tr th {\n",
       "        vertical-align: top;\n",
       "    }\n",
       "\n",
       "    .dataframe thead th {\n",
       "        text-align: right;\n",
       "    }\n",
       "</style>\n",
       "<table border=\"1\" class=\"dataframe\">\n",
       "  <thead>\n",
       "    <tr style=\"text-align: right;\">\n",
       "      <th>userId</th>\n",
       "      <th>1</th>\n",
       "      <th>2</th>\n",
       "      <th>3</th>\n",
       "      <th>4</th>\n",
       "      <th>5</th>\n",
       "      <th>6</th>\n",
       "      <th>7</th>\n",
       "      <th>8</th>\n",
       "      <th>9</th>\n",
       "      <th>10</th>\n",
       "      <th>...</th>\n",
       "      <th>138484</th>\n",
       "      <th>138485</th>\n",
       "      <th>138486</th>\n",
       "      <th>138487</th>\n",
       "      <th>138488</th>\n",
       "      <th>138489</th>\n",
       "      <th>138490</th>\n",
       "      <th>138491</th>\n",
       "      <th>138492</th>\n",
       "      <th>138493</th>\n",
       "    </tr>\n",
       "    <tr>\n",
       "      <th>title</th>\n",
       "      <th></th>\n",
       "      <th></th>\n",
       "      <th></th>\n",
       "      <th></th>\n",
       "      <th></th>\n",
       "      <th></th>\n",
       "      <th></th>\n",
       "      <th></th>\n",
       "      <th></th>\n",
       "      <th></th>\n",
       "      <th></th>\n",
       "      <th></th>\n",
       "      <th></th>\n",
       "      <th></th>\n",
       "      <th></th>\n",
       "      <th></th>\n",
       "      <th></th>\n",
       "      <th></th>\n",
       "      <th></th>\n",
       "      <th></th>\n",
       "      <th></th>\n",
       "    </tr>\n",
       "  </thead>\n",
       "  <tbody>\n",
       "    <tr>\n",
       "      <th>10 Things I Hate About You (1999)</th>\n",
       "      <td>0.000</td>\n",
       "      <td>0.000</td>\n",
       "      <td>0.000</td>\n",
       "      <td>0.000</td>\n",
       "      <td>0.000</td>\n",
       "      <td>0.000</td>\n",
       "      <td>0.000</td>\n",
       "      <td>0.000</td>\n",
       "      <td>0.000</td>\n",
       "      <td>0.000</td>\n",
       "      <td>...</td>\n",
       "      <td>0.000</td>\n",
       "      <td>0.000</td>\n",
       "      <td>0.000</td>\n",
       "      <td>0.000</td>\n",
       "      <td>0.000</td>\n",
       "      <td>0.000</td>\n",
       "      <td>0.000</td>\n",
       "      <td>0.000</td>\n",
       "      <td>0.000</td>\n",
       "      <td>0.000</td>\n",
       "    </tr>\n",
       "    <tr>\n",
       "      <th>12 Angry Men (1957)</th>\n",
       "      <td>0.000</td>\n",
       "      <td>0.000</td>\n",
       "      <td>0.000</td>\n",
       "      <td>0.000</td>\n",
       "      <td>0.000</td>\n",
       "      <td>0.000</td>\n",
       "      <td>0.000</td>\n",
       "      <td>0.000</td>\n",
       "      <td>0.000</td>\n",
       "      <td>0.000</td>\n",
       "      <td>...</td>\n",
       "      <td>0.000</td>\n",
       "      <td>0.000</td>\n",
       "      <td>0.000</td>\n",
       "      <td>0.000</td>\n",
       "      <td>0.000</td>\n",
       "      <td>4.500</td>\n",
       "      <td>0.000</td>\n",
       "      <td>0.000</td>\n",
       "      <td>0.000</td>\n",
       "      <td>4.000</td>\n",
       "    </tr>\n",
       "    <tr>\n",
       "      <th>2001: A Space Odyssey (1968)</th>\n",
       "      <td>3.500</td>\n",
       "      <td>5.000</td>\n",
       "      <td>5.000</td>\n",
       "      <td>0.000</td>\n",
       "      <td>0.000</td>\n",
       "      <td>0.000</td>\n",
       "      <td>3.000</td>\n",
       "      <td>0.000</td>\n",
       "      <td>0.000</td>\n",
       "      <td>0.000</td>\n",
       "      <td>...</td>\n",
       "      <td>0.000</td>\n",
       "      <td>0.000</td>\n",
       "      <td>0.000</td>\n",
       "      <td>0.000</td>\n",
       "      <td>0.000</td>\n",
       "      <td>0.000</td>\n",
       "      <td>0.000</td>\n",
       "      <td>0.000</td>\n",
       "      <td>0.000</td>\n",
       "      <td>0.000</td>\n",
       "    </tr>\n",
       "    <tr>\n",
       "      <th>28 Days Later (2002)</th>\n",
       "      <td>3.500</td>\n",
       "      <td>0.000</td>\n",
       "      <td>0.000</td>\n",
       "      <td>0.000</td>\n",
       "      <td>0.000</td>\n",
       "      <td>0.000</td>\n",
       "      <td>0.000</td>\n",
       "      <td>0.000</td>\n",
       "      <td>0.000</td>\n",
       "      <td>0.000</td>\n",
       "      <td>...</td>\n",
       "      <td>0.000</td>\n",
       "      <td>0.000</td>\n",
       "      <td>4.500</td>\n",
       "      <td>0.000</td>\n",
       "      <td>0.000</td>\n",
       "      <td>0.000</td>\n",
       "      <td>0.000</td>\n",
       "      <td>0.000</td>\n",
       "      <td>0.000</td>\n",
       "      <td>0.000</td>\n",
       "    </tr>\n",
       "    <tr>\n",
       "      <th>300 (2007)</th>\n",
       "      <td>0.000</td>\n",
       "      <td>0.000</td>\n",
       "      <td>0.000</td>\n",
       "      <td>0.000</td>\n",
       "      <td>0.000</td>\n",
       "      <td>0.000</td>\n",
       "      <td>0.000</td>\n",
       "      <td>0.000</td>\n",
       "      <td>0.000</td>\n",
       "      <td>0.000</td>\n",
       "      <td>...</td>\n",
       "      <td>0.000</td>\n",
       "      <td>0.000</td>\n",
       "      <td>0.000</td>\n",
       "      <td>0.000</td>\n",
       "      <td>0.000</td>\n",
       "      <td>0.000</td>\n",
       "      <td>0.000</td>\n",
       "      <td>0.000</td>\n",
       "      <td>0.000</td>\n",
       "      <td>4.500</td>\n",
       "    </tr>\n",
       "  </tbody>\n",
       "</table>\n",
       "<p>5 rows × 137658 columns</p>\n",
       "</div>"
      ],
      "text/plain": [
       "userId                             1       2       3       4       5        \n",
       "title                                                                       \n",
       "10 Things I Hate About You (1999)   0.000   0.000   0.000   0.000   0.000  \\\n",
       "12 Angry Men (1957)                 0.000   0.000   0.000   0.000   0.000   \n",
       "2001: A Space Odyssey (1968)        3.500   5.000   5.000   0.000   0.000   \n",
       "28 Days Later (2002)                3.500   0.000   0.000   0.000   0.000   \n",
       "300 (2007)                          0.000   0.000   0.000   0.000   0.000   \n",
       "\n",
       "userId                             6       7       8       9       10       \n",
       "title                                                                       \n",
       "10 Things I Hate About You (1999)   0.000   0.000   0.000   0.000   0.000  \\\n",
       "12 Angry Men (1957)                 0.000   0.000   0.000   0.000   0.000   \n",
       "2001: A Space Odyssey (1968)        0.000   3.000   0.000   0.000   0.000   \n",
       "28 Days Later (2002)                0.000   0.000   0.000   0.000   0.000   \n",
       "300 (2007)                          0.000   0.000   0.000   0.000   0.000   \n",
       "\n",
       "userId                             ...  138484  138485  138486  138487   \n",
       "title                              ...                                   \n",
       "10 Things I Hate About You (1999)  ...   0.000   0.000   0.000   0.000  \\\n",
       "12 Angry Men (1957)                ...   0.000   0.000   0.000   0.000   \n",
       "2001: A Space Odyssey (1968)       ...   0.000   0.000   0.000   0.000   \n",
       "28 Days Later (2002)               ...   0.000   0.000   4.500   0.000   \n",
       "300 (2007)                         ...   0.000   0.000   0.000   0.000   \n",
       "\n",
       "userId                             138488  138489  138490  138491  138492   \n",
       "title                                                                       \n",
       "10 Things I Hate About You (1999)   0.000   0.000   0.000   0.000   0.000  \\\n",
       "12 Angry Men (1957)                 0.000   4.500   0.000   0.000   0.000   \n",
       "2001: A Space Odyssey (1968)        0.000   0.000   0.000   0.000   0.000   \n",
       "28 Days Later (2002)                0.000   0.000   0.000   0.000   0.000   \n",
       "300 (2007)                          0.000   0.000   0.000   0.000   0.000   \n",
       "\n",
       "userId                             138493  \n",
       "title                                      \n",
       "10 Things I Hate About You (1999)   0.000  \n",
       "12 Angry Men (1957)                 4.000  \n",
       "2001: A Space Odyssey (1968)        0.000  \n",
       "28 Days Later (2002)                0.000  \n",
       "300 (2007)                          4.500  \n",
       "\n",
       "[5 rows x 137658 columns]"
      ]
     },
     "execution_count": 15,
     "metadata": {},
     "output_type": "execute_result"
    }
   ],
   "source": [
    "movie_features_df=rating_popular_movie.pivot_table(index='title',columns='userId',values='rating').fillna(0)\n",
    "movie_features_df.head()"
   ]
  },
  {
   "cell_type": "code",
   "execution_count": 16,
   "metadata": {
    "execution": {
     "iopub.execute_input": "2021-06-30T14:19:27.524627Z",
     "iopub.status.busy": "2021-06-30T14:19:27.524380Z",
     "iopub.status.idle": "2021-06-30T14:19:27.534272Z",
     "shell.execute_reply": "2021-06-30T14:19:27.533352Z",
     "shell.execute_reply.started": "2021-06-30T14:19:27.524603Z"
    }
   },
   "outputs": [],
   "source": [
    "from scipy.sparse import csr_matrix # To convert pivot table to array matrix\n",
    "movie_features_df_matrix = csr_matrix(movie_features_df.values)"
   ]
  },
  {
   "cell_type": "markdown",
   "metadata": {},
   "source": [
    "### Concept of Cosine Similarity"
   ]
  },
  {
   "cell_type": "markdown",
   "metadata": {},
   "source": [
    "<img src=\"https://dataaspirant.com/wp-content/uploads/2015/04/cosine.png\"> </img>"
   ]
  },
  {
   "cell_type": "markdown",
   "metadata": {},
   "source": [
    "***For cos (0 deg), similarity is 1***\n",
    "\n",
    "***For cos (90 deg), similarity is 0***"
   ]
  },
  {
   "cell_type": "markdown",
   "metadata": {},
   "source": [
    "### Training Nearest Neighbors ML Model"
   ]
  },
  {
   "cell_type": "code",
   "execution_count": 17,
   "metadata": {
    "execution": {
     "iopub.execute_input": "2021-06-30T14:19:27.535781Z",
     "iopub.status.busy": "2021-06-30T14:19:27.535512Z",
     "iopub.status.idle": "2021-06-30T14:19:28.005390Z",
     "shell.execute_reply": "2021-06-30T14:19:28.004406Z",
     "shell.execute_reply.started": "2021-06-30T14:19:27.535757Z"
    }
   },
   "outputs": [
    {
     "data": {
      "text/html": [
       "<style>#sk-container-id-1 {color: black;background-color: white;}#sk-container-id-1 pre{padding: 0;}#sk-container-id-1 div.sk-toggleable {background-color: white;}#sk-container-id-1 label.sk-toggleable__label {cursor: pointer;display: block;width: 100%;margin-bottom: 0;padding: 0.3em;box-sizing: border-box;text-align: center;}#sk-container-id-1 label.sk-toggleable__label-arrow:before {content: \"▸\";float: left;margin-right: 0.25em;color: #696969;}#sk-container-id-1 label.sk-toggleable__label-arrow:hover:before {color: black;}#sk-container-id-1 div.sk-estimator:hover label.sk-toggleable__label-arrow:before {color: black;}#sk-container-id-1 div.sk-toggleable__content {max-height: 0;max-width: 0;overflow: hidden;text-align: left;background-color: #f0f8ff;}#sk-container-id-1 div.sk-toggleable__content pre {margin: 0.2em;color: black;border-radius: 0.25em;background-color: #f0f8ff;}#sk-container-id-1 input.sk-toggleable__control:checked~div.sk-toggleable__content {max-height: 200px;max-width: 100%;overflow: auto;}#sk-container-id-1 input.sk-toggleable__control:checked~label.sk-toggleable__label-arrow:before {content: \"▾\";}#sk-container-id-1 div.sk-estimator input.sk-toggleable__control:checked~label.sk-toggleable__label {background-color: #d4ebff;}#sk-container-id-1 div.sk-label input.sk-toggleable__control:checked~label.sk-toggleable__label {background-color: #d4ebff;}#sk-container-id-1 input.sk-hidden--visually {border: 0;clip: rect(1px 1px 1px 1px);clip: rect(1px, 1px, 1px, 1px);height: 1px;margin: -1px;overflow: hidden;padding: 0;position: absolute;width: 1px;}#sk-container-id-1 div.sk-estimator {font-family: monospace;background-color: #f0f8ff;border: 1px dotted black;border-radius: 0.25em;box-sizing: border-box;margin-bottom: 0.5em;}#sk-container-id-1 div.sk-estimator:hover {background-color: #d4ebff;}#sk-container-id-1 div.sk-parallel-item::after {content: \"\";width: 100%;border-bottom: 1px solid gray;flex-grow: 1;}#sk-container-id-1 div.sk-label:hover label.sk-toggleable__label {background-color: #d4ebff;}#sk-container-id-1 div.sk-serial::before {content: \"\";position: absolute;border-left: 1px solid gray;box-sizing: border-box;top: 0;bottom: 0;left: 50%;z-index: 0;}#sk-container-id-1 div.sk-serial {display: flex;flex-direction: column;align-items: center;background-color: white;padding-right: 0.2em;padding-left: 0.2em;position: relative;}#sk-container-id-1 div.sk-item {position: relative;z-index: 1;}#sk-container-id-1 div.sk-parallel {display: flex;align-items: stretch;justify-content: center;background-color: white;position: relative;}#sk-container-id-1 div.sk-item::before, #sk-container-id-1 div.sk-parallel-item::before {content: \"\";position: absolute;border-left: 1px solid gray;box-sizing: border-box;top: 0;bottom: 0;left: 50%;z-index: -1;}#sk-container-id-1 div.sk-parallel-item {display: flex;flex-direction: column;z-index: 1;position: relative;background-color: white;}#sk-container-id-1 div.sk-parallel-item:first-child::after {align-self: flex-end;width: 50%;}#sk-container-id-1 div.sk-parallel-item:last-child::after {align-self: flex-start;width: 50%;}#sk-container-id-1 div.sk-parallel-item:only-child::after {width: 0;}#sk-container-id-1 div.sk-dashed-wrapped {border: 1px dashed gray;margin: 0 0.4em 0.5em 0.4em;box-sizing: border-box;padding-bottom: 0.4em;background-color: white;}#sk-container-id-1 div.sk-label label {font-family: monospace;font-weight: bold;display: inline-block;line-height: 1.2em;}#sk-container-id-1 div.sk-label-container {text-align: center;}#sk-container-id-1 div.sk-container {/* jupyter's `normalize.less` sets `[hidden] { display: none; }` but bootstrap.min.css set `[hidden] { display: none !important; }` so we also need the `!important` here to be able to override the default hidden behavior on the sphinx rendered scikit-learn.org. See: https://github.com/scikit-learn/scikit-learn/issues/21755 */display: inline-block !important;position: relative;}#sk-container-id-1 div.sk-text-repr-fallback {display: none;}</style><div id=\"sk-container-id-1\" class=\"sk-top-container\"><div class=\"sk-text-repr-fallback\"><pre>NearestNeighbors(algorithm=&#x27;brute&#x27;, metric=&#x27;cosine&#x27;)</pre><b>In a Jupyter environment, please rerun this cell to show the HTML representation or trust the notebook. <br />On GitHub, the HTML representation is unable to render, please try loading this page with nbviewer.org.</b></div><div class=\"sk-container\" hidden><div class=\"sk-item\"><div class=\"sk-estimator sk-toggleable\"><input class=\"sk-toggleable__control sk-hidden--visually\" id=\"sk-estimator-id-1\" type=\"checkbox\" checked><label for=\"sk-estimator-id-1\" class=\"sk-toggleable__label sk-toggleable__label-arrow\">NearestNeighbors</label><div class=\"sk-toggleable__content\"><pre>NearestNeighbors(algorithm=&#x27;brute&#x27;, metric=&#x27;cosine&#x27;)</pre></div></div></div></div></div>"
      ],
      "text/plain": [
       "NearestNeighbors(algorithm='brute', metric='cosine')"
      ]
     },
     "execution_count": 17,
     "metadata": {},
     "output_type": "execute_result"
    }
   ],
   "source": [
    "# Remember this is not K - Nearest Neighbors classifier or regressor. It's NearestNeighbors\n",
    "from sklearn.neighbors import NearestNeighbors\n",
    "# Generally, we use KNN to find similar vectors based on euclidean distance, but here we use the distance metric as cosine score\n",
    "model_knn = NearestNeighbors(metric = 'cosine', algorithm = 'brute')\n",
    "model_knn.fit(movie_features_df_matrix)"
   ]
  },
  {
   "cell_type": "markdown",
   "metadata": {},
   "source": [
    "[Sklearn distance metrics documentation](https://scikit-learn.org/stable/modules/generated/sklearn.neighbors.DistanceMetric.html#sklearn.neighbors.DistanceMetric)"
   ]
  },
  {
   "cell_type": "code",
   "execution_count": 18,
   "metadata": {
    "execution": {
     "iopub.execute_input": "2021-06-30T14:19:28.006836Z",
     "iopub.status.busy": "2021-06-30T14:19:28.006536Z",
     "iopub.status.idle": "2021-06-30T14:19:28.012564Z",
     "shell.execute_reply": "2021-06-30T14:19:28.011540Z",
     "shell.execute_reply.started": "2021-06-30T14:19:28.006808Z"
    }
   },
   "outputs": [
    {
     "data": {
      "text/plain": [
       "(462, 137658)"
      ]
     },
     "execution_count": 18,
     "metadata": {},
     "output_type": "execute_result"
    }
   ],
   "source": [
    "movie_features_df.shape"
   ]
  },
  {
   "cell_type": "code",
   "execution_count": 19,
   "metadata": {
    "execution": {
     "iopub.execute_input": "2021-06-30T14:19:28.014277Z",
     "iopub.status.busy": "2021-06-30T14:19:28.014002Z",
     "iopub.status.idle": "2021-06-30T14:19:28.031778Z",
     "shell.execute_reply": "2021-06-30T14:19:28.030754Z",
     "shell.execute_reply.started": "2021-06-30T14:19:28.014251Z"
    }
   },
   "outputs": [
    {
     "name": "stdout",
     "output_type": "stream",
     "text": [
      "339\n"
     ]
    }
   ],
   "source": [
    "# movie_features_df.shape[0] samples a vector\n",
    "query_index = np.random.choice(movie_features_df.shape[0])\n",
    "print(query_index)\n",
    "# Getting euclidean distance based on cosine metric and indices of respective neighbors which are nearest\n",
    "distances, indices = model_knn.kneighbors(movie_features_df.iloc[query_index,:].values.reshape(1,-1), n_neighbors=6)"
   ]
  },
  {
   "cell_type": "markdown",
   "metadata": {},
   "source": [
    "[Differences between .flatten() and .ravel()](https://www.geeksforgeeks.org/differences-flatten-ravel-numpy/)"
   ]
  },
  {
   "cell_type": "markdown",
   "metadata": {},
   "source": [
    "### ***Results***"
   ]
  },
  {
   "cell_type": "code",
   "execution_count": 20,
   "metadata": {
    "execution": {
     "iopub.execute_input": "2021-06-30T14:19:28.035413Z",
     "iopub.status.busy": "2021-06-30T14:19:28.035126Z",
     "iopub.status.idle": "2021-06-30T14:19:28.042216Z",
     "shell.execute_reply": "2021-06-30T14:19:28.041291Z",
     "shell.execute_reply.started": "2021-06-30T14:19:28.035385Z"
    }
   },
   "outputs": [
    {
     "name": "stdout",
     "output_type": "stream",
     "text": [
      "Recommendations for Robin Hood: Men in Tights (1993):\n",
      "\n",
      "1: Hot Shots! Part Deux (1993), with distance of 0.5313413143157959:\n",
      "2: Naked Gun 33 1/3: The Final Insult (1994), with distance of 0.5552611351013184:\n",
      "3: Home Alone (1990), with distance of 0.5901440382003784:\n",
      "4: Mrs. Doubtfire (1993), with distance of 0.5982285737991333:\n",
      "5: Last Action Hero (1993), with distance of 0.6034529805183411:\n"
     ]
    }
   ],
   "source": [
    "# .flatten() returns a copy of the array collapsed into one dimension (row major).\n",
    "for i in range(0, len(distances.flatten())):\n",
    "    if i == 0:\n",
    "        print('Recommendations for {0}:\\n'.format(movie_features_df.index[query_index]))\n",
    "    else:\n",
    "        print('{0}: {1}, with distance of {2}:'.format(i, movie_features_df.index[indices.flatten()[i]], distances.flatten()[i]))"
   ]
  },
  {
   "cell_type": "code",
   "execution_count": null,
   "metadata": {},
   "outputs": [],
   "source": []
  }
 ],
 "metadata": {
  "kernelspec": {
   "display_name": "env",
   "language": "python",
   "name": "env"
  },
  "language_info": {
   "codemirror_mode": {
    "name": "ipython",
    "version": 3
   },
   "file_extension": ".py",
   "mimetype": "text/x-python",
   "name": "python",
   "nbconvert_exporter": "python",
   "pygments_lexer": "ipython3",
   "version": "3.11.3"
  }
 },
 "nbformat": 4,
 "nbformat_minor": 4
}
